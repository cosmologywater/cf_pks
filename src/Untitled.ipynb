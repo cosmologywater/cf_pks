{
 "cells": [
  {
   "cell_type": "code",
   "execution_count": 21,
   "metadata": {},
   "outputs": [],
   "source": [
    "import numpy as np\n",
    "import matplotlib.pyplot as plt"
   ]
  },
  {
   "cell_type": "code",
   "execution_count": 165,
   "metadata": {},
   "outputs": [
    {
     "data": {
      "text/plain": [
       "<matplotlib.contour.QuadContourSet at 0x7fe80509f310>"
      ]
     },
     "execution_count": 165,
     "metadata": {},
     "output_type": "execute_result"
    },
    {
     "data": {
      "image/png": "[encoded data removed]",
      "text/plain": [
       "<Figure size 432x288 with 1 Axes>"
      ]
     },
     "metadata": {
      "needs_background": "light"
     },
     "output_type": "display_data"
    }
   ],
   "source": [
    "filename = '/home/xiaodongli/projects/simulation/cola_output_nstep40/sub00001c.txt.shiftr.om0.3071_w-1.0000.radeczw.150s0to150.120mu.2pcf' \n",
    "norms = [float(xx) for xx in open(filename, 'r').readline().split()[1:4]]\n",
    "data = np.loadtxt(filename)\n",
    "numsbin=150; nummubin=120;s_min=6; s_max = 40;\n",
    "\n",
    "DD, DR, RR = [data[:,row].reshape(150,120) for row in [3,4,6]]        \n",
    "DD /= norms[0]; DR /= norms[1]; RR /= norms[2]\n",
    " \n",
    "xi = np.divide(DD-2*DR+RR,RR)\n",
    "intximu = sum(xi[s_min:s_max+1])  \n",
    "mu = data.reshape(150,120,-1)[0,:,0]\n",
    "x = np.ones(mu.shape)-mu #[1-data[row][0] for row in range(120)]\n",
    "y= [ (i+i+1)*0.5 for i in range(150)]\n",
    "x,y = np.meshgrid(x,y)\n",
    "\n",
    "plt.xlim(0,1)\n",
    "plt.ylim(0,50)\n",
    "plt.contourf(x,y,xi,100,alpha=.75,cmap=plt.cm.hot)"
   ]
  },
  {
   "cell_type": "code",
   "execution_count": 186,
   "metadata": {},
   "outputs": [
    {
     "data": {
      "text/plain": [
       "array([-5.51697270e-04, -7.68987407e-04, -1.60315841e-03, -1.04198909e-03,\n",
       "       -2.31361329e-03, -2.62012730e-03, -1.51847426e-04, -1.39519238e-03,\n",
       "       -2.24623480e-03, -3.96241497e-03, -4.35208776e-03, -1.42950410e-04,\n",
       "       -1.51717739e-03, -2.82916911e-03, -4.01408490e-03, -5.36618593e-03,\n",
       "       -6.24102308e-03, -4.38344141e-04, -1.35791565e-03, -2.63634542e-03,\n",
       "       -4.42208652e-03, -5.01233341e-03, -6.88831188e-03, -7.49385195e-03,\n",
       "       -8.41038810e-04, -1.76701207e-03, -2.30459383e-03, -3.69556370e-03,\n",
       "       -5.14666077e-03, -6.14904259e-03, -7.92993294e-03, -9.41053542e-03,\n",
       "       -4.21362151e-04, -1.15821356e-03, -2.19343196e-03, -2.96333357e-03,\n",
       "       -4.32459589e-03, -5.56960531e-03, -6.63954515e-03, -8.56489477e-03,\n",
       "       -1.07388267e-02, -8.11733540e-04, -1.48986898e-03, -2.58381904e-03,\n",
       "       -3.23993102e-03, -4.15695664e-03, -5.58066088e-03, -6.93297139e-03,\n",
       "       -8.52324358e-03, -1.07209738e-02, -5.49343156e-04, -1.16526826e-03,\n",
       "       -1.64163880e-03, -2.49302592e-03, -3.44327559e-03, -3.94820443e-03,\n",
       "       -4.89733052e-03, -6.39216467e-03, -7.38044432e-03, -9.50401379e-03,\n",
       "       -3.71040286e-05, -2.94138657e-04, -1.09893928e-03, -1.74272548e-03,\n",
       "       -2.39390042e-03, -3.15463103e-03, -3.65256954e-03, -4.05394036e-03,\n",
       "       -5.42636426e-03, -6.20070205e-03, -7.56350269e-03, -1.16290490e-04,\n",
       "       -4.78124062e-04, -4.67978132e-04, -7.59515661e-04, -1.80628657e-03,\n",
       "       -2.32376421e-03, -2.57679264e-03, -3.34920937e-03, -3.37797758e-03,\n",
       "       -4.30423301e-03, -5.26600021e-03, -5.82936769e-03, -1.37835006e-04,\n",
       "       -3.54399408e-04, -7.80098124e-04, -9.06247529e-04, -1.30310371e-03,\n",
       "       -2.56964292e-03, -2.10929946e-03, -2.61474262e-03, -2.89106970e-03,\n",
       "       -3.27297676e-03, -4.15646223e-03, -4.16993000e-03, -2.35328255e-04,\n",
       "       -8.62619726e-04, -8.20074347e-04, -1.05926582e-03, -1.80432310e-03,\n",
       "       -1.82886821e-03, -1.91072962e-03, -2.12126190e-03, -2.24201399e-03,\n",
       "       -3.10036931e-03, -3.31541286e-03, -5.14196914e-05, -6.57171671e-04,\n",
       "       -1.02559006e-03, -8.14945388e-04, -1.06786486e-03, -1.38231747e-03,\n",
       "       -1.45169007e-03, -1.38801606e-03, -1.71092373e-03, -2.65206639e-03,\n",
       "       -2.96782927e-03, -6.51954314e-04, -1.12816898e-03, -9.92150236e-04,\n",
       "       -5.56262404e-04, -7.94322221e-04, -1.03558622e-03, -9.93338294e-04,\n",
       "       -1.42516113e-03, -2.54641034e-03, -2.85241304e-03, -3.52466479e-04,\n",
       "       -1.01208625e-03, -1.08718450e-03, -8.46458813e-04, -7.64478922e-04,\n",
       "       -7.28320866e-04, -9.69006475e-04, -1.42524398e-03, -2.46718179e-03,\n",
       "       -3.01882716e-03, -2.68785049e-04, -8.87521635e-04, -1.00178417e-03,\n",
       "       -7.60864847e-04, -5.60130837e-04, -7.84015596e-04, -9.05754619e-04,\n",
       "       -1.07502913e-03, -2.19131955e-03, -2.62475178e-03, -3.87126774e-05,\n",
       "       -4.29132814e-04, -6.65942142e-04, -6.34511052e-04, -4.97985741e-04,\n",
       "       -8.04037819e-04, -8.10682704e-04, -7.49198679e-04, -1.93651320e-03,\n",
       "       -2.03491478e-03, -2.72244490e-04, -3.59378727e-04, -2.09790515e-04,\n",
       "       -7.07917299e-04, -7.45934058e-04, -4.93926337e-04, -1.89135257e-03,\n",
       "       -1.87331302e-03, -7.82071491e-05, -3.94606217e-04, -4.65785358e-04,\n",
       "       -1.96464293e-03, -1.75959006e-03, -2.79670198e-04, -7.56023207e-04,\n",
       "       -2.14862956e-03, -2.24860476e-03, -1.64749691e-04, -1.14886297e-03,\n",
       "       -2.20442268e-03, -2.73328971e-03, -8.81619532e-05, -2.45295083e-04,\n",
       "       -3.61340873e-04, -1.31758344e-03, -2.22481093e-03, -2.71985902e-03,\n",
       "       -1.67494583e-04, -1.12919367e-04, -1.21536862e-04, -2.24315425e-04,\n",
       "       -8.60437085e-05, -6.57580142e-04, -1.67981440e-03, -2.46940385e-03,\n",
       "       -2.81305684e-03, -6.98964137e-06, -3.32784458e-04, -3.66480216e-04,\n",
       "       -3.75456809e-04, -2.23901512e-04, -1.46920793e-04, -5.91008789e-05,\n",
       "       -4.03102341e-05, -3.77180033e-04, -7.61195829e-04, -5.19348253e-04,\n",
       "       -1.07228504e-03, -2.02123888e-03, -2.79551987e-03, -3.12924811e-03,\n",
       "       -1.46813230e-04, -2.82571935e-04, -3.74864427e-04, -4.27185269e-04,\n",
       "       -3.54679109e-04, -4.43114597e-04, -2.80283559e-04, -2.18130430e-04,\n",
       "       -2.41711930e-04, -3.16140232e-04, -6.04554013e-04, -9.03503038e-04,\n",
       "       -1.09178192e-03, -8.12595958e-04, -1.55132869e-03, -2.44474123e-03,\n",
       "       -2.92805455e-03, -3.52691693e-03, -4.94211514e-04, -7.02165059e-04,\n",
       "       -7.17698870e-04, -5.41318960e-04, -4.37021452e-04, -6.40776291e-04,\n",
       "       -6.53852127e-04, -6.18505634e-04, -5.94882212e-04, -9.56391976e-04,\n",
       "       -1.32656019e-03, -1.44646335e-03, -1.25144821e-03, -1.34599855e-03,\n",
       "       -1.92091441e-03, -2.77223904e-03, -3.12082519e-03, -4.11660562e-03,\n",
       "       -1.15808659e-04, -2.61361717e-04, -4.35763074e-04, -8.00205562e-04,\n",
       "       -8.33054541e-04, -1.08404054e-03, -1.15636458e-03, -9.38465099e-04,\n",
       "       -9.03397687e-04, -8.99943619e-04, -9.19994430e-04, -1.18336425e-03,\n",
       "       -1.59804324e-03, -2.00071138e-03, -2.00714792e-03, -1.77261466e-03,\n",
       "       -1.88010163e-03, -2.41999653e-03, -2.94708624e-03, -3.22265571e-03,\n",
       "       -4.63066148e-03, -1.63128124e-04, -8.06110537e-04, -8.49049054e-04,\n",
       "       -1.09159689e-03, -1.21928494e-03, -1.02907866e-03, -1.18008329e-03,\n",
       "       -1.58560540e-03, -1.45172217e-03, -1.27280152e-03, -1.31587567e-03,\n",
       "       -1.59692279e-03, -1.74431744e-03, -2.07230040e-03, -2.48282075e-03,\n",
       "       -2.31530149e-03, -2.11683556e-03, -2.41853978e-03, -2.88371801e-03,\n",
       "       -2.98672373e-03, -3.13053387e-03, -5.25379625e-03, -9.87136415e-05,\n",
       "       -5.85474360e-05, -4.16190536e-04, -8.19175380e-04, -1.26375717e-03,\n",
       "       -1.31589194e-03, -1.38728756e-03, -1.36382692e-03, -1.47549513e-03,\n",
       "       -1.94463627e-03, -2.09409613e-03, -1.79282192e-03, -1.65120821e-03,\n",
       "       -1.97463878e-03, -2.49166789e-03, -2.38923044e-03, -2.62018998e-03,\n",
       "       -2.44148941e-03, -2.33572050e-03, -2.55033206e-03, -2.87604783e-03,\n",
       "       -2.85054583e-03, -3.27907510e-03, -5.34720607e-03, -1.92991936e-04,\n",
       "       -4.59709748e-04, -8.98436135e-04, -1.20414549e-03, -1.24701937e-03,\n",
       "       -1.55528182e-03, -1.62395038e-03, -1.65809173e-03, -1.72721187e-03,\n",
       "       -2.17413116e-03, -2.49781919e-03, -2.67403641e-03, -2.43320118e-03,\n",
       "       -2.34464195e-03, -2.60069734e-03, -2.59931650e-03, -2.57277628e-03,\n",
       "       -2.44966455e-03, -2.14192904e-03, -2.44663616e-03, -2.77774495e-03,\n",
       "       -2.65187184e-03, -3.46466676e-03, -5.15649497e-03, -3.71917486e-04,\n",
       "       -5.83788665e-04, -1.32717662e-03, -1.52436401e-03, -1.65497432e-03,\n",
       "       -1.72651153e-03, -1.88314275e-03, -2.18271255e-03, -2.28478373e-03,\n",
       "       -2.50964963e-03, -2.68785777e-03, -2.91367403e-03, -3.08040833e-03,\n",
       "       -2.66623477e-03, -2.52835702e-03, -2.62708943e-03, -2.53948836e-03,\n",
       "       -2.35550383e-03, -1.81861938e-03, -2.33923832e-03, -2.87457392e-03,\n",
       "       -2.46054322e-03, -3.67215857e-03, -5.00818016e-03, -1.87746010e-04,\n",
       "       -1.54699198e-04, -6.15485319e-04, -9.94674693e-04, -1.53307644e-03,\n",
       "       -1.90275696e-03, -1.91004582e-03, -2.13765258e-03, -2.37334578e-03,\n",
       "       -2.86875395e-03, -2.81767678e-03, -2.78062259e-03, -2.67336759e-03,\n",
       "       -2.89012073e-03, -3.39688748e-03, -2.95370700e-03, -2.51850318e-03,\n",
       "       -2.70200676e-03, -2.49227255e-03, -2.30359782e-03, -1.64952761e-03,\n",
       "       -2.15556751e-03, -2.78237494e-03, -2.48357480e-03, -3.87198171e-03,\n",
       "       -4.67114942e-03, -1.28001036e-04, -2.75478974e-04, -6.88930194e-04,\n",
       "       -9.61609558e-04, -1.17898543e-03, -1.60268176e-03, -2.07496550e-03,\n",
       "       -2.27141682e-03, -2.28355620e-03, -2.49070617e-03, -2.83887597e-03,\n",
       "       -3.09067675e-03, -3.13305007e-03, -2.85254866e-03, -2.85550851e-03,\n",
       "       -3.36240652e-03, -3.16293061e-03, -2.46033475e-03, -2.61715749e-03,\n",
       "       -2.42700507e-03, -2.34389771e-03, -1.63940746e-03, -1.98632362e-03,\n",
       "       -2.40026570e-03, -2.35740151e-03, -3.65275351e-03, -4.22909376e-03,\n",
       "       -2.92896687e-05, -2.32468534e-04, -2.97850113e-04, -5.69172292e-04,\n",
       "       -1.02676746e-03, -1.37516634e-03, -1.77114438e-03, -2.20508692e-03,\n",
       "       -2.36375281e-03, -2.49100314e-03, -2.53516809e-03, -2.72032703e-03,\n",
       "       -3.05456587e-03, -3.26339146e-03, -3.11877164e-03, -2.95957854e-03,\n",
       "       -3.06043119e-03, -3.46778490e-03, -2.79968472e-03, -2.44208607e-03,\n",
       "       -2.77328353e-03, -2.35954978e-03, -1.85776733e-03, -2.19615339e-03,\n",
       "       -2.14026709e-03, -1.94036353e-03, -3.20919224e-03, -3.46280502e-03,\n",
       "       -2.86478748e-04, -4.84619744e-04, -4.98378772e-04, -7.38295154e-04,\n",
       "       -8.08384471e-04, -1.11849016e-03, -1.75870816e-03, -2.39491490e-03,\n",
       "       -2.43322127e-03, -2.55031253e-03, -2.43429683e-03, -2.51069998e-03,\n",
       "       -2.92983717e-03, -3.24466090e-03, -3.24661325e-03, -3.16565446e-03,\n",
       "       -3.24700547e-03, -3.59610042e-03, -3.08735939e-03, -2.72880948e-03,\n",
       "       -2.97624550e-03, -2.73451839e-03, -2.27969262e-03, -2.56409675e-03,\n",
       "       -2.17316447e-03, -1.75746873e-03, -2.84237238e-03, -2.75156244e-03])"
      ]
     },
     "execution_count": 186,
     "metadata": {},
     "output_type": "execute_result"
    }
   ],
   "source": [
    "xi[(-1*(xi>0).astype(int) + 1).astype(bool)]"
   ]
  },
  {
   "cell_type": "code",
   "execution_count": 66,
   "metadata": {},
   "outputs": [],
   "source": [
    "a = data[:,3]\n",
    "b = a.reshape(150,120)\n",
    "c = (b[0::3]+b[1::3]+b[2::3])\n",
    "d =(c[:,0::3]+c[:,1::3]+c[:,2::3])"
   ]
  },
  {
   "cell_type": "code",
   "execution_count": 182,
   "metadata": {},
   "outputs": [
    {
     "data": {
      "text/plain": [
       "array([[False, False, False, False, False, False, False, False, False,\n",
       "        False],\n",
       "       [False, False, False, False, False, False, False, False, False,\n",
       "        False],\n",
       "       [False, False, False, False, False, False, False, False, False,\n",
       "        False],\n",
       "       [False, False, False, False, False, False, False, False, False,\n",
       "        False],\n",
       "       [False, False, False, False, False, False, False, False, False,\n",
       "        False],\n",
       "       [False, False, False, False, False, False, False, False, False,\n",
       "        False],\n",
       "       [False, False, False, False, False, False, False, False, False,\n",
       "        False],\n",
       "       [False, False, False, False, False, False, False, False, False,\n",
       "        False],\n",
       "       [False, False, False, False, False, False, False, False, False,\n",
       "        False],\n",
       "       [False, False, False, False, False, False, False, False, False,\n",
       "        False]])"
      ]
     },
     "execution_count": 182,
     "metadata": {},
     "output_type": "execute_result"
    }
   ],
   "source": [
    "(A*0).astype(bool)"
   ]
  },
  {
   "cell_type": "code",
   "execution_count": 180,
   "metadata": {},
   "outputs": [],
   "source": [
    "A = np.ones((10,10))"
   ]
  },
  {
   "cell_type": "code",
   "execution_count": 173,
   "metadata": {},
   "outputs": [
    {
     "data": {
      "text/plain": [
       "<matplotlib.contour.QuadContourSet at 0x7fe803c768d0>"
      ]
     },
     "execution_count": 173,
     "metadata": {},
     "output_type": "execute_result"
    },
    {
     "data": {
      "image/png": "[encoded data removed]",
      "text/plain": [
       "<Figure size 432x288 with 1 Axes>"
      ]
     },
     "metadata": {
      "needs_background": "light"
     },
     "output_type": "display_data"
    }
   ],
   "source": [
    "dd1, dr1, rr1 = [data[:,row].reshape(150,120) for row in [3,4,6]] \n",
    "dd2 = (dd1[0::3]+dd1[1::3]+dd1[2::3])\n",
    "dr2 = (dr1[0::3]+dr1[1::3]+dr1[2::3])\n",
    "rr2 = (rr1[0::3]+rr1[1::3]+rr1[2::3])\n",
    "dd = (dd2[:,0::3]+dd2[:,1::3]+dd2[:,2::3])\n",
    "dr = (dr2[:,0::3]+dr2[:,1::3]+dr2[:,2::3])\n",
    "rr = (rr2[:,0::3]+rr2[:,1::3]+rr2[:,2::3])\n",
    "xi = np.divide(dd-2*dr+rr,rr)\n",
    "#xi.shape\n",
    "intximu = sum(xi[s_min:s_max+1])  \n",
    "mu = data.reshape(150,120,-1)[0,:,0]\n",
    "x = np.ones(mu.shape)-mu #[1-data[row][0] for row in range(120)]\n",
    "#x1 = (x[0::3]+x[1::3]+x[2::3])\n",
    "x1 = [1-i for i in np.linspace(0,1,40)]\n",
    "y = [ (i+i+1)*0.5 for i in range(150)]\n",
    "#y1 = (y[0::3]+y[1::3]+y[2::3])\n",
    "y1 = [ (i+i+1)*0.5 for i in range(50)]\n",
    "x1,y1 = np.meshgrid(x1,y1)\n",
    "\n",
    "plt.xlim(0,1)\n",
    "plt.ylim(0,30)\n",
    "plt.contourf(x1,y1,xi,40,alpha=.75,cmap=plt.cm.hot)"
   ]
  },
  {
   "cell_type": "code",
   "execution_count": 135,
   "metadata": {},
   "outputs": [],
   "source": [
    "qq1 = [dd1[i,0]+dd1[i+1,0]+dd1[i+2,0] for i in range(0,148,3)]\n",
    "qr1 = [dr1[i,0]+dr1[i+1,0]+dr1[i+2,0] for i in range(0,148,3)]\n",
    "ww1 = [rr1[i,0]+rr1[i+1,0]+rr1[i+2,0] for i in range(0,148,3)]\n",
    "qq1 = np.array(qq1)\n",
    "qr1 = np.array(qr1)\n",
    "ww1 = np.array(ww1)\n",
    "#qq2 = [qq1[i,1]+qq1[i+1,1]+qq1[i+2,1] for i in range(0,118,3)]\n",
    "#qr2 = [qr1[i,1]+qr1[i+1,1]+qr1[i+2,1] for i in range(0,118,3)]\n",
    "#ww2 = [ww1[i,1]+ww1[i+1,1]+ww1[i+2,1] for i in range(0,118,3)]\n"
   ]
  },
  {
   "cell_type": "code",
   "execution_count": 148,
   "metadata": {},
   "outputs": [
    {
     "name": "stdout",
     "output_type": "stream",
     "text": [
      "1.6970143151835986e-06\n"
     ]
    }
   ],
   "source": [
    "for i in range(0,148,3):\n",
    "    dd1[i,0] \n",
    "print dd1[i,0]"
   ]
  },
  {
   "cell_type": "code",
   "execution_count": null,
   "metadata": {},
   "outputs": [],
   "source": [
    "xi = np.divide(qq2-2*qr2+ww2,ww2)\n",
    "intximu = sum(xi[s_min:s_max+1])  \n",
    "mu = data.reshape(150,120,-1)[0,:,0]\n",
    "x = np.ones(mu.shape)-mu #[1-data[row][0] for row in range(120)]\n",
    "y= [ (i+i+1)*0.5 for i in range(150)]\n",
    "x1 = x[::3]\n",
    "y1 = y[::3]\n",
    "x1,y1 = np.meshgrid(x1,y1)\n",
    "plt.xlim(0,1)\n",
    "#plt.ylim(0,50)\n",
    "plt.contourf(x1,y1,xi,40,alpha=.75,cmap=plt.cm.hot)"
   ]
  }
 ],
 "metadata": {
  "kernelspec": {
   "display_name": "Python 2",
   "language": "python",
   "name": "python2"
  },
  "language_info": {
   "codemirror_mode": {
    "name": "ipython",
    "version": 2
   },
   "file_extension": ".py",
   "mimetype": "text/x-python",
   "name": "python",
   "nbconvert_exporter": "python",
   "pygments_lexer": "ipython2",
   "version": "2.7.15"
  }
 },
 "nbformat": 4,
 "nbformat_minor": 2
}
