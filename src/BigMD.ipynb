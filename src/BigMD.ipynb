{
 "cells": [
  {
   "cell_type": "code",
   "execution_count": 1,
   "metadata": {},
   "outputs": [
    {
     "name": "stdout",
     "output_type": "stream",
     "text": [
      "Populating the interactive namespace from numpy and matplotlib\n"
     ]
    }
   ],
   "source": [
    "%pylab inline"
   ]
  },
  {
   "cell_type": "code",
   "execution_count": 3,
   "metadata": {},
   "outputs": [
    {
     "name": "stdout",
     "output_type": "stream",
     "text": [
      "2pcf.readme\t\t\t   CITAData\tcp_CITA2pcf.sh\tsrc\r\n",
      "BigMD_2pcfs\t\t\t   cola_2pcfs\tgitpush.sh\r\n",
      "cita_cola_compare.worklist.readme  cp_BigMD.sh\thaha.sh\r\n"
     ]
    }
   ],
   "source": [
    "!ls ../"
   ]
  },
  {
   "cell_type": "code",
   "execution_count": null,
   "metadata": {},
   "outputs": [],
   "source": [
    "for s_min, s_max, mumax in [[6,40,1.0], [6,40,0.97], [6,40,0.9], [6,40,0.5], \n",
    "    [6,20,0.97], [6,40,0.97], [20,40,0.97], \n",
    "    [40,60,0.97], \n",
    "    [60, 80,0.97], [80, 100,0.97], [100, 150, 0.97]\n",
    "    ]:\n",
    "    numsbin=150; nummubin=120;\n",
    "\n",
    "    fig, axs = plt.subplots(1,3, figsize=(16,6))\n",
    "    ax1, ax2, ax3 = axs\n",
    "    Ys = []\n",
    "    for snapid in [15-0, 15-3, 15-5, 15-7, 15-10, 15-12, 15-15]:    \n",
    "        # filename, label\n",
    "        filename = '../CITAData/subsamples/'+\\\n",
    "         'gadget_0%02i'%snapid+'.rat0.0027_ranseed0.shiftr.om0.2951_w-1.0000.radeczw.150s0to150.120mu.2pcf'\n",
    "        label = r'$z = %.1f'%(redshifts_dict[snapid])+'$'\n",
    "        ## load in\n",
    "        data = np.loadtxt(filename); norms = [float(xx) for xx in open(filename, 'r').readline().split()[1:4]]\n",
    "        ## DD, DR and RR\n",
    "        DD, DR, RR = [data[:,row].reshape(150,120) for row in [3,4,6]]; \n",
    "        DD /= norms[0]; DR /= norms[1]; RR /= norms[2]\n",
    "        # xi, intximu\n",
    "        xi = np.divide(DD-2*DR+RR,RR)\n",
    "        intximu = xi[s_min:s_max+1,:].sum(0)\n",
    "        # X, Y for plot\n",
    "        imumax = int(nummubin*mumax)\n",
    "        #intximu = intximu[:imumax]\n",
    "        mu = data[:,0]; X = np.ones(nummubin) - mu[:nummubin]; \n",
    "        X = X[:imumax]; Y = intximu[:imumax]/intximu[:imumax].sum()*len(intximu[:imumax]); \n",
    "        Ys.append([xx for xx in Y])\n",
    "        # make plot\n",
    "        ax1.plot(X,Y, marker='o', markersize=1, label=label )\n",
    "        ax2.plot(X, (Y - np.array(Ys[0])), \n",
    "                 marker='o', markersize=1, label=label+ r'  -  $z = 0$' )\n",
    "        ax3.plot(X, np.divide(Y,  np.array(Ys[0])), \n",
    "                 marker='o', markersize=1, label=label+ r'  /  $z = 0$' )\n",
    "    # axes settings    \n",
    "    for ax in [ax1, ax2, ax3]:\n",
    "        ax.grid(); ax.set_xlabel('$1-\\mu$', fontsize=18)    \n",
    "        ax.legend(fontsize=14, frameon=False)\n",
    "    ax1.set_ylabel(r'$\\hat \\xi_{\\Delta s}(\\mu)$', fontsize=22)\n",
    "    ax2.set_ylabel(r'$\\hat \\xi_{\\Delta s}(\\mu) - \\hat \\xi_{\\Delta s}(\\mu, z=0)$', fontsize=22)\n",
    "    ax3.set_ylabel(r'$\\hat \\xi_{\\Delta s}(\\mu) / \\hat \\xi_{\\Delta s}(\\mu, z=0)$', fontsize=22)\n",
    "    # fig settings\n",
    "    fig.suptitle('CITA particles; $s_{\\\\rm min},\\\\ s_{\\\\rm max}$ = '+str(s_min)+', '+str(s_max)+\\\n",
    "     ' Mpc/h; $\\mu <= '+str(mumax)+'$.', fontsize=24,); fig.tight_layout(rect=(0, 0, 1, 0.9)); plt.show()\n",
    "    fig.savefig('s'+str(s_min)+'to'+str(s_max)+'_mumax%.2f'%mumax+'.pdf', format='pdf')"
   ]
  }
 ],
 "metadata": {
  "kernelspec": {
   "display_name": "Python 3",
   "language": "python",
   "name": "python3"
  },
  "language_info": {
   "codemirror_mode": {
    "name": "ipython",
    "version": 3
   },
   "file_extension": ".py",
   "mimetype": "text/x-python",
   "name": "python",
   "nbconvert_exporter": "python",
   "pygments_lexer": "ipython3",
   "version": "3.7.1"
  }
 },
 "nbformat": 4,
 "nbformat_minor": 2
}
