{
 "cells": [
  {
   "cell_type": "code",
   "execution_count": 1,
   "metadata": {},
   "outputs": [
    {
     "name": "stdout",
     "output_type": "stream",
     "text": [
      "Populating the interactive namespace from numpy and matplotlib\n"
     ]
    }
   ],
   "source": [
    "import pynbody\n",
    "%pylab inline"
   ]
  },
  {
   "cell_type": "code",
   "execution_count": 63,
   "metadata": {
    "scrolled": true
   },
   "outputs": [
    {
     "ename": "ValueError",
     "evalue": "could not convert string to float: Mvir(4)",
     "output_type": "error",
     "traceback": [
      "\u001b[0;31m---------------------------------------------------------------------------\u001b[0m",
      "\u001b[0;31mValueError\u001b[0m                                Traceback (most recent call last)",
      "\u001b[0;32m<ipython-input-63-3ff044287168>\u001b[0m in \u001b[0;36m<module>\u001b[0;34m()\u001b[0m\n\u001b[1;32m      8\u001b[0m \u001b[0;34m\u001b[0m\u001b[0m\n\u001b[1;32m      9\u001b[0m \u001b[0;32mfor\u001b[0m \u001b[0mnowfile\u001b[0m \u001b[0;32min\u001b[0m \u001b[0mfiles\u001b[0m\u001b[0;34m:\u001b[0m\u001b[0;34m\u001b[0m\u001b[0m\n\u001b[0;32m---> 10\u001b[0;31m     \u001b[0mdata\u001b[0m \u001b[0;34m=\u001b[0m \u001b[0mnp\u001b[0m\u001b[0;34m.\u001b[0m\u001b[0mloadtxt\u001b[0m\u001b[0;34m(\u001b[0m\u001b[0mnowfile\u001b[0m\u001b[0;34m)\u001b[0m\u001b[0;34m\u001b[0m\u001b[0m\n\u001b[0m\u001b[1;32m     11\u001b[0m     \u001b[0mpos\u001b[0m\u001b[0;34m,\u001b[0m \u001b[0mvel\u001b[0m\u001b[0;34m,\u001b[0m \u001b[0mmass\u001b[0m \u001b[0;34m=\u001b[0m \u001b[0mdata\u001b[0m\u001b[0;34m[\u001b[0m\u001b[0;34m:\u001b[0m\u001b[0;34m,\u001b[0m\u001b[0;36m1\u001b[0m\u001b[0;34m:\u001b[0m\u001b[0;36m4\u001b[0m\u001b[0;34m]\u001b[0m\u001b[0;34m,\u001b[0m \u001b[0mdata\u001b[0m\u001b[0;34m[\u001b[0m\u001b[0;34m:\u001b[0m\u001b[0;34m,\u001b[0m\u001b[0;36m4\u001b[0m\u001b[0;34m:\u001b[0m\u001b[0;36m7\u001b[0m\u001b[0;34m]\u001b[0m\u001b[0;34m,\u001b[0m \u001b[0mdata\u001b[0m\u001b[0;34m[\u001b[0m\u001b[0;34m:\u001b[0m\u001b[0;34m,\u001b[0m\u001b[0;36m0\u001b[0m\u001b[0;34m]\u001b[0m\u001b[0;34m\u001b[0m\u001b[0m\n\u001b[1;32m     12\u001b[0m     \u001b[0mnpar\u001b[0m \u001b[0;34m=\u001b[0m \u001b[0mlen\u001b[0m\u001b[0;34m(\u001b[0m\u001b[0mmass\u001b[0m\u001b[0;34m)\u001b[0m\u001b[0;34m\u001b[0m\u001b[0m\n",
      "\u001b[0;32m/usr/share/anaconda2/lib/python2.7/site-packages/numpy/lib/npyio.pyc\u001b[0m in \u001b[0;36mloadtxt\u001b[0;34m(fname, dtype, comments, delimiter, converters, skiprows, usecols, unpack, ndmin, encoding)\u001b[0m\n\u001b[1;32m   1099\u001b[0m         \u001b[0;31m# converting the data\u001b[0m\u001b[0;34m\u001b[0m\u001b[0;34m\u001b[0m\u001b[0m\n\u001b[1;32m   1100\u001b[0m         \u001b[0mX\u001b[0m \u001b[0;34m=\u001b[0m \u001b[0mNone\u001b[0m\u001b[0;34m\u001b[0m\u001b[0m\n\u001b[0;32m-> 1101\u001b[0;31m         \u001b[0;32mfor\u001b[0m \u001b[0mx\u001b[0m \u001b[0;32min\u001b[0m \u001b[0mread_data\u001b[0m\u001b[0;34m(\u001b[0m\u001b[0m_loadtxt_chunksize\u001b[0m\u001b[0;34m)\u001b[0m\u001b[0;34m:\u001b[0m\u001b[0;34m\u001b[0m\u001b[0m\n\u001b[0m\u001b[1;32m   1102\u001b[0m             \u001b[0;32mif\u001b[0m \u001b[0mX\u001b[0m \u001b[0;32mis\u001b[0m \u001b[0mNone\u001b[0m\u001b[0;34m:\u001b[0m\u001b[0;34m\u001b[0m\u001b[0m\n\u001b[1;32m   1103\u001b[0m                 \u001b[0mX\u001b[0m \u001b[0;34m=\u001b[0m \u001b[0mnp\u001b[0m\u001b[0;34m.\u001b[0m\u001b[0marray\u001b[0m\u001b[0;34m(\u001b[0m\u001b[0mx\u001b[0m\u001b[0;34m,\u001b[0m \u001b[0mdtype\u001b[0m\u001b[0;34m)\u001b[0m\u001b[0;34m\u001b[0m\u001b[0m\n",
      "\u001b[0;32m/usr/share/anaconda2/lib/python2.7/site-packages/numpy/lib/npyio.pyc\u001b[0m in \u001b[0;36mread_data\u001b[0;34m(chunk_size)\u001b[0m\n\u001b[1;32m   1026\u001b[0m \u001b[0;34m\u001b[0m\u001b[0m\n\u001b[1;32m   1027\u001b[0m             \u001b[0;31m# Convert each value according to its column and store\u001b[0m\u001b[0;34m\u001b[0m\u001b[0;34m\u001b[0m\u001b[0m\n\u001b[0;32m-> 1028\u001b[0;31m             \u001b[0mitems\u001b[0m \u001b[0;34m=\u001b[0m \u001b[0;34m[\u001b[0m\u001b[0mconv\u001b[0m\u001b[0;34m(\u001b[0m\u001b[0mval\u001b[0m\u001b[0;34m)\u001b[0m \u001b[0;32mfor\u001b[0m \u001b[0;34m(\u001b[0m\u001b[0mconv\u001b[0m\u001b[0;34m,\u001b[0m \u001b[0mval\u001b[0m\u001b[0;34m)\u001b[0m \u001b[0;32min\u001b[0m \u001b[0mzip\u001b[0m\u001b[0;34m(\u001b[0m\u001b[0mconverters\u001b[0m\u001b[0;34m,\u001b[0m \u001b[0mvals\u001b[0m\u001b[0;34m)\u001b[0m\u001b[0;34m]\u001b[0m\u001b[0;34m\u001b[0m\u001b[0m\n\u001b[0m\u001b[1;32m   1029\u001b[0m \u001b[0;34m\u001b[0m\u001b[0m\n\u001b[1;32m   1030\u001b[0m             \u001b[0;31m# Then pack it according to the dtype's nesting\u001b[0m\u001b[0;34m\u001b[0m\u001b[0;34m\u001b[0m\u001b[0m\n",
      "\u001b[0;32m/usr/share/anaconda2/lib/python2.7/site-packages/numpy/lib/npyio.pyc\u001b[0m in \u001b[0;36mfloatconv\u001b[0;34m(x)\u001b[0m\n\u001b[1;32m    744\u001b[0m         \u001b[0;32mif\u001b[0m \u001b[0;34m'0x'\u001b[0m \u001b[0;32min\u001b[0m \u001b[0mx\u001b[0m\u001b[0;34m:\u001b[0m\u001b[0;34m\u001b[0m\u001b[0m\n\u001b[1;32m    745\u001b[0m             \u001b[0;32mreturn\u001b[0m \u001b[0mfloat\u001b[0m\u001b[0;34m.\u001b[0m\u001b[0mfromhex\u001b[0m\u001b[0;34m(\u001b[0m\u001b[0mx\u001b[0m\u001b[0;34m)\u001b[0m\u001b[0;34m\u001b[0m\u001b[0m\n\u001b[0;32m--> 746\u001b[0;31m         \u001b[0;32mreturn\u001b[0m \u001b[0mfloat\u001b[0m\u001b[0;34m(\u001b[0m\u001b[0mx\u001b[0m\u001b[0;34m)\u001b[0m\u001b[0;34m\u001b[0m\u001b[0m\n\u001b[0m\u001b[1;32m    747\u001b[0m \u001b[0;34m\u001b[0m\u001b[0m\n\u001b[1;32m    748\u001b[0m     \u001b[0mtyp\u001b[0m \u001b[0;34m=\u001b[0m \u001b[0mdtype\u001b[0m\u001b[0;34m.\u001b[0m\u001b[0mtype\u001b[0m\u001b[0;34m\u001b[0m\u001b[0m\n",
      "\u001b[0;31mValueError\u001b[0m: could not convert string to float: Mvir(4)"
     ]
    }
   ],
   "source": [
    "outputfile = '/public/projects/simulation/cola_output_nstep20/ahfcola_halos'\n",
    "\n",
    "#files = ['/public/projects/simulation/cola_output_nstep20/ahfhalos.00%02d'%nowid+\\\n",
    "            # '.z0.000.AHF_halos.halo' for nowid in range(32)]\n",
    "outputf = open(outputfile, 'w')\n",
    "\n",
    "files = ['/public/projects/simulation/cola_output_nstep20/ahfhalos.00%02d'%nowid+\\\n",
    "         '.z0.000.AHF_halos.halo' for nowid in range(32) ]\n",
    "\n",
    "for nowfile in files:\n",
    "    data = np.loadtxt(nowfile)\n",
    "    pos, vel, mass = data[:,1:4], data[:,4:7], data[:,0]\n",
    "    npar = len(mass) \n",
    "\n",
    "    for ipar in range(npar):\n",
    "        X = [xx for xx in pos[ipar]] + \\\n",
    "                [xx for xx in vel[ipar]]  + [mass[ipar]]\n",
    "        nowstr = ''\n",
    "        for xx in X: nowstr += (str(xx)+' ')\n",
    "        outputf.write(nowstr+'\\n')\n",
    "outputf.close()"
   ]
  },
  {
   "cell_type": "code",
   "execution_count": 76,
   "metadata": {},
   "outputs": [
    {
     "name": "stdout",
     "output_type": "stream",
     "text": [
      "/public/projects/simulation/cola_output_nstep20/ahfhalos.0000.z0.000.AHF_halos.halo\n",
      "/public/projects/simulation/cola_output_nstep20/ahfhalos.0001.z0.000.AHF_halos.halo\n",
      "/public/projects/simulation/cola_output_nstep20/ahfhalos.0002.z0.000.AHF_halos.halo\n",
      "/public/projects/simulation/cola_output_nstep20/ahfhalos.0003.z0.000.AHF_halos.halo\n",
      "/public/projects/simulation/cola_output_nstep20/ahfhalos.0004.z0.000.AHF_halos.halo\n",
      "/public/projects/simulation/cola_output_nstep20/ahfhalos.0005.z0.000.AHF_halos.halo\n",
      "/public/projects/simulation/cola_output_nstep20/ahfhalos.0006.z0.000.AHF_halos.halo\n",
      "/public/projects/simulation/cola_output_nstep20/ahfhalos.0007.z0.000.AHF_halos.halo\n",
      "/public/projects/simulation/cola_output_nstep20/ahfhalos.0008.z0.000.AHF_halos.halo\n",
      "/public/projects/simulation/cola_output_nstep20/ahfhalos.0009.z0.000.AHF_halos.halo\n",
      "/public/projects/simulation/cola_output_nstep20/ahfhalos.0010.z0.000.AHF_halos.halo\n",
      "/public/projects/simulation/cola_output_nstep20/ahfhalos.0011.z0.000.AHF_halos.halo\n",
      "/public/projects/simulation/cola_output_nstep20/ahfhalos.0012.z0.000.AHF_halos.halo\n",
      "/public/projects/simulation/cola_output_nstep20/ahfhalos.0013.z0.000.AHF_halos.halo\n",
      "/public/projects/simulation/cola_output_nstep20/ahfhalos.0014.z0.000.AHF_halos.halo\n",
      "/public/projects/simulation/cola_output_nstep20/ahfhalos.0015.z0.000.AHF_halos.halo\n",
      "/public/projects/simulation/cola_output_nstep20/ahfhalos.0016.z0.000.AHF_halos.halo\n",
      "/public/projects/simulation/cola_output_nstep20/ahfhalos.0017.z0.000.AHF_halos.halo\n",
      "/public/projects/simulation/cola_output_nstep20/ahfhalos.0018.z0.000.AHF_halos.halo\n",
      "/public/projects/simulation/cola_output_nstep20/ahfhalos.0019.z0.000.AHF_halos.halo\n",
      "/public/projects/simulation/cola_output_nstep20/ahfhalos.0020.z0.000.AHF_halos.halo\n",
      "/public/projects/simulation/cola_output_nstep20/ahfhalos.0021.z0.000.AHF_halos.halo\n",
      "/public/projects/simulation/cola_output_nstep20/ahfhalos.0022.z0.000.AHF_halos.halo\n",
      "/public/projects/simulation/cola_output_nstep20/ahfhalos.0023.z0.000.AHF_halos.halo\n",
      "/public/projects/simulation/cola_output_nstep20/ahfhalos.0024.z0.000.AHF_halos.halo\n",
      "/public/projects/simulation/cola_output_nstep20/ahfhalos.0025.z0.000.AHF_halos.halo\n",
      "/public/projects/simulation/cola_output_nstep20/ahfhalos.0026.z0.000.AHF_halos.halo\n",
      "/public/projects/simulation/cola_output_nstep20/ahfhalos.0027.z0.000.AHF_halos.halo\n",
      "/public/projects/simulation/cola_output_nstep20/ahfhalos.0028.z0.000.AHF_halos.halo\n",
      "/public/projects/simulation/cola_output_nstep20/ahfhalos.0029.z0.000.AHF_halos.halo\n",
      "/public/projects/simulation/cola_output_nstep20/ahfhalos.0030.z0.000.AHF_halos.halo\n",
      "/public/projects/simulation/cola_output_nstep20/ahfhalos.0031.z0.000.AHF_halos.halo\n"
     ]
    }
   ],
   "source": [
    "files = ['/public/projects/simulation/cola_output_nstep20/ahfhalos.00%02d'%nowid+\\\n",
    "         '.z0.000.AHF_halos.halo' for nowid in range(32) ]\n",
    "for nowfile in files:\n",
    "    print nowfile\n",
    "    #data = np.loadtxt(nowfile)\n",
    "    \n",
    "#data = np.loadtxt(files) \n",
    "#print files"
   ]
  },
  {
   "cell_type": "code",
   "execution_count": 68,
   "metadata": {},
   "outputs": [
    {
     "name": "stdout",
     "output_type": "stream",
     "text": [
      "ls: cannot access 'files': No such file or directory\r\n"
     ]
    }
   ],
   "source": [
    "!ls 'files'"
   ]
  },
  {
   "cell_type": "code",
   "execution_count": 69,
   "metadata": {},
   "outputs": [],
   "source": [
    "data= np.loadtxt('/public/projects/simulation/cola_output_nstep20/ahfhalos.0010.z0.000.AHF_halos.halo')"
   ]
  },
  {
   "cell_type": "code",
   "execution_count": 70,
   "metadata": {},
   "outputs": [
    {
     "name": "stdout",
     "output_type": "stream",
     "text": [
      "[[ 2.00731000e+18  8.12034605e+02  9.48539842e+02 ...  5.26000000e+00\n",
      "  -1.43400000e+01  8.17500000e+01]\n",
      " [ 2.98392000e+17  7.84872396e+02  9.87630797e+02 ...  2.26100000e+01\n",
      "   7.85300000e+01  1.30830000e+02]\n",
      " [ 2.78926000e+17  8.08072727e+02  8.14314218e+02 ...  1.92220000e+02\n",
      "  -1.39480000e+02  1.68100000e+01]\n",
      " ...\n",
      " [ 1.70421000e+12  9.41625533e+02  7.84805803e+02 ... -1.93220000e+02\n",
      "   4.33830000e+02 -3.34740000e+02]\n",
      " [ 1.70421000e+12  9.56306441e+02  1.00231956e+03 ... -2.32960000e+02\n",
      "  -2.16010000e+02  5.45100000e+01]\n",
      " [ 1.70421000e+12  1.01489509e+03  9.03235997e+02 ...  2.69220000e+02\n",
      "  -5.05340000e+02 -2.94600000e+01]]\n"
     ]
    }
   ],
   "source": [
    "print data"
   ]
  },
  {
   "cell_type": "code",
   "execution_count": 24,
   "metadata": {},
   "outputs": [
    {
     "data": {
      "text/plain": [
       "array([[ 812.03460454,  948.5398416 ,   84.5550518 ],\n",
       "       [ 784.87239583,  987.63079664,   35.63003974],\n",
       "       [ 808.07272732,  814.31421775,  394.52495764],\n",
       "       ...,\n",
       "       [ 941.62553267,  784.80580278,  489.91459794],\n",
       "       [ 956.30644124, 1002.31955973,  328.62549642],\n",
       "       [1014.89509365,  903.23599679,  317.1183973 ]])"
      ]
     },
     "execution_count": 24,
     "metadata": {},
     "output_type": "execute_result"
    }
   ],
   "source": [
    "data[:,1:4]"
   ]
  },
  {
   "cell_type": "code",
   "execution_count": 28,
   "metadata": {},
   "outputs": [
    {
     "data": {
      "text/plain": [
       "array([[   5.26,  -14.34,   81.75],\n",
       "       [  22.61,   78.53,  130.83],\n",
       "       [ 192.22, -139.48,   16.81],\n",
       "       ...,\n",
       "       [-193.22,  433.83, -334.74],\n",
       "       [-232.96, -216.01,   54.51],\n",
       "       [ 269.22, -505.34,  -29.46]])"
      ]
     },
     "execution_count": 28,
     "metadata": {},
     "output_type": "execute_result"
    }
   ],
   "source": [
    "data[:,4:7]"
   ]
  },
  {
   "cell_type": "code",
   "execution_count": 75,
   "metadata": {},
   "outputs": [],
   "source": [
    "fee = '/public/projects/simulation/cola_output_nstep20/ahfhalos.0010.z0.000.AHF_halos.halo'\n",
    "data= np.loadtxt(fee)"
   ]
  },
  {
   "cell_type": "code",
   "execution_count": null,
   "metadata": {},
   "outputs": [],
   "source": []
  }
 ],
 "metadata": {
  "kernelspec": {
   "display_name": "Python 2",
   "language": "python",
   "name": "python2"
  },
  "language_info": {
   "codemirror_mode": {
    "name": "ipython",
    "version": 2
   },
   "file_extension": ".py",
   "mimetype": "text/x-python",
   "name": "python",
   "nbconvert_exporter": "python",
   "pygments_lexer": "ipython2",
   "version": "2.7.15"
  }
 },
 "nbformat": 4,
 "nbformat_minor": 2
}
